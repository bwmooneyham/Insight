{
 "cells": [
  {
   "cell_type": "code",
   "execution_count": 56,
   "metadata": {
    "collapsed": false
   },
   "outputs": [],
   "source": [
    "## IMPORT NECESSARY PYTHON MODULES:\n",
    "from sqlalchemy import create_engine\n",
    "import psycopg2\n",
    "import pandas as pd\n",
    "import numpy as np\n",
    "import matplotlib.pyplot as plt\n",
    "import os\n"
   ]
  },
  {
   "cell_type": "code",
   "execution_count": 57,
   "metadata": {
    "collapsed": false
   },
   "outputs": [],
   "source": [
    "## CONNECT TO SQL DATABASE:\n",
    "# Provide database info\n",
    "dbname = os.environ['dbname']\n",
    "pswd = os.environ['pswd']\n",
    "username = os.environ['username']\n",
    "# construct a connection to a database\n",
    "engine = create_engine('postgresql://%s:%s@localhost/%s'%(username,pswd,dbname))\n",
    "# connect to the database\n",
    "con = None\n",
    "con = psycopg2.connect(database = dbname, user = username, host='localhost', password=pswd)"
   ]
  },
  {
   "cell_type": "code",
   "execution_count": 58,
   "metadata": {
    "collapsed": false
   },
   "outputs": [],
   "source": [
    "from mapbox import Geocoder\n",
    "\n",
    "MAPBOX_ACCESS_TOKEN=os.environ['MAPBOX_ACCESS_TOKEN']\n",
    "\n",
    "geocoder = Geocoder(access_token=MAPBOX_ACCESS_TOKEN)\n",
    "\n",
    "#response_start = geocoder.forward(\"360 Elizabeth St, San Francisco, CA 94114\")\n",
    "response_start = geocoder.forward(\"501 Twin Peaks Blvd, San Francisco, CA 94114\")\n",
    "start_coords = response_start.geojson()['features'][0]['geometry']['coordinates']\n",
    "lat1 = start_coords[0]\n",
    "long1 = start_coords[1]\n",
    "\n",
    "response_end = geocoder.forward(\"1720 Market St, San Francisco, CA 94102\")\n",
    "end_coords = response_end.geojson()['features'][0]['geometry']['coordinates']\n",
    "lat2 = end_coords[0]\n",
    "long2 = end_coords[1]"
   ]
  },
  {
   "cell_type": "code",
   "execution_count": 63,
   "metadata": {
    "collapsed": false
   },
   "outputs": [
    {
     "data": {
      "text/plain": [
       "[(126971L,)]"
      ]
     },
     "execution_count": 63,
     "metadata": {},
     "output_type": "execute_result"
    }
   ],
   "source": [
    "cur_get_ids_from_ll_start = con.cursor()\n",
    "cur_get_ids_from_ll_end = con.cursor()\n",
    "cur_get_ids_from_ll_start.execute(\"\"\"select id from ways_vertices_pgr order by st_distance(the_geom, st_setsrid(st_makepoint(%s, %s), 4326)) limit 1;\"\"\", (lat1, long1))\n",
    "cur_get_ids_from_ll_end.execute(\"\"\"select id from ways_vertices_pgr order by st_distance(the_geom, st_setsrid(st_makepoint(%s, %s), 4326)) limit 1;\"\"\", (lat2, long2))\n",
    "\n",
    "id_start = cur_get_ids_from_ll_start.fetchall()\n",
    "id_end = cur_get_ids_from_ll_end.fetchall()"
   ]
  },
  {
   "cell_type": "markdown",
   "metadata": {},
   "source": [
    "## Cell below needs editing to return cal_cost and length_ft columns. The totals from these columns then need to be calculated and displayed in the web app"
   ]
  },
  {
   "cell_type": "code",
   "execution_count": 61,
   "metadata": {
    "collapsed": false
   },
   "outputs": [
    {
     "data": {
      "text/plain": [
       "[(35933L,\n",
       "  Decimal('-122.44559300'),\n",
       "  Decimal('37.75555970'),\n",
       "  828.402540289306,\n",
       "  40893L,\n",
       "  828.402540289306),\n",
       " (46680L,\n",
       "  Decimal('-122.44694230'),\n",
       "  Decimal('37.75649950'),\n",
       "  484.288764908419,\n",
       "  40892L,\n",
       "  484.288764908419),\n",
       " (20406L,\n",
       "  Decimal('-122.44790270'),\n",
       "  Decimal('37.75755680'),\n",
       "  127.870360206564,\n",
       "  122107L,\n",
       "  127.870360206564),\n",
       " (46866L,\n",
       "  Decimal('-122.44817210'),\n",
       "  Decimal('37.75783530'),\n",
       "  459.076267601774,\n",
       "  119757L,\n",
       "  459.076267601774),\n",
       " (8353L,\n",
       "  Decimal('-122.44848470'),\n",
       "  Decimal('37.75904990'),\n",
       "  159.934581691944,\n",
       "  40891L,\n",
       "  159.934581691944),\n",
       " (43513L,\n",
       "  Decimal('-122.44794010'),\n",
       "  Decimal('37.75912460'),\n",
       "  166.960532894734,\n",
       "  40890L,\n",
       "  166.960532894734),\n",
       " (11277L,\n",
       "  Decimal('-122.44744390'),\n",
       "  Decimal('37.75935150'),\n",
       "  334.474006353616,\n",
       "  40889L,\n",
       "  334.474006353616),\n",
       " (4451L,\n",
       "  Decimal('-122.44695300'),\n",
       "  Decimal('37.76017000'),\n",
       "  330.15192105246,\n",
       "  40888L,\n",
       "  330.15192105246),\n",
       " (22314L,\n",
       "  Decimal('-122.44651720'),\n",
       "  Decimal('37.76100470'),\n",
       "  182.133848046542,\n",
       "  100236L,\n",
       "  182.133848046542),\n",
       " (97307L,\n",
       "  Decimal('-122.44660730'),\n",
       "  Decimal('37.76148250'),\n",
       "  34.1954880164907,\n",
       "  207924L,\n",
       "  34.1954880164907)]"
      ]
     },
     "execution_count": 61,
     "metadata": {},
     "output_type": "execute_result"
    }
   ],
   "source": [
    "curX = con.cursor()\n",
    "curX.execute(\"\"\"SELECT id, lon, lat, route.cost, route.edge, new_ways.length_ft\n",
    "   FROM ways_vertices_pgr\n",
    "   JOIN\n",
    "   (SELECT * FROM pgr_dijkstra('\n",
    "    SELECT gid AS id,\n",
    "         source,\n",
    "         target,\n",
    "         length_ft AS cost,\n",
    "         length_ft\n",
    "        FROM ways_cals',\n",
    "    %s, %s, directed := false )) AS route\n",
    "   ON\n",
    "   ways_vertices_pgr.id = route.node\n",
    "   JOIN (SELECT gid, length_ft FROM ways_cals) AS new_ways\n",
    "   ON new_ways.gid = route.edge\n",
    "   ORDER BY seq;\"\"\", (id_start, id_end))\n",
    "Path = curX.fetchall()\n",
    "Path[:10]"
   ]
  },
  {
   "cell_type": "markdown",
   "metadata": {},
   "source": [
    "## The following cell, given the cell above (which has been edited to return the cost column in the Path variable), gives the total of the \"cal_cost\" variable along the path. NOTE: this does NOT equal the calories burned!"
   ]
  },
  {
   "cell_type": "code",
   "execution_count": 55,
   "metadata": {
    "collapsed": false
   },
   "outputs": [
    {
     "data": {
      "text/plain": [
       "11700.100467986296"
      ]
     },
     "execution_count": 55,
     "metadata": {},
     "output_type": "execute_result"
    }
   ],
   "source": [
    "Total_Cal = 0\n",
    "Total_Dist = 0\n",
    "for i in range(len(Path)):\n",
    "    Total_Cal += Path[i][3]\n",
    "    Total_Dist += Path[i][5]\n",
    "Total_Cal  \n"
   ]
  },
  {
   "cell_type": "code",
   "execution_count": 33,
   "metadata": {
    "collapsed": false
   },
   "outputs": [
    {
     "data": {
      "text/plain": [
       "65"
      ]
     },
     "execution_count": 33,
     "metadata": {},
     "output_type": "execute_result"
    }
   ],
   "source": [
    "Route_Coords = []\n",
    "for i in range(len(Path)):\n",
    "    Route_Coords.append([float(Path[i][1]),float(Path[i][2])])\n",
    "\n",
    "len(Route_Coords)"
   ]
  },
  {
   "cell_type": "code",
   "execution_count": 34,
   "metadata": {
    "collapsed": false,
    "scrolled": true
   },
   "outputs": [],
   "source": [
    "for i in range(len(Route_Coords)):\n",
    "    Route_Coords[i][0], Route_Coords[i][1] = Route_Coords[i][1], Route_Coords[i][0]\n",
    "    \n",
    "#Route_Coords"
   ]
  },
  {
   "cell_type": "code",
   "execution_count": 35,
   "metadata": {
    "collapsed": false
   },
   "outputs": [],
   "source": [
    "Route_str = \"[\"\n",
    "for i in range(len(Route_Coords)):\n",
    "    Route_str += \"[\"\n",
    "    Route_str += str(Route_Coords[i][0])\n",
    "    Route_str += \",\"\n",
    "    Route_str += str(Route_Coords[i][1])\n",
    "    Route_str += \"]\"\n",
    "    Route_str += \",\"\n",
    "Route_str = Route_str[:-1]\n",
    "Route_str += \"];\"\n",
    "    "
   ]
  },
  {
   "cell_type": "code",
   "execution_count": 36,
   "metadata": {
    "collapsed": false
   },
   "outputs": [
    {
     "data": {
      "text/plain": [
       "'[[37.7555597,-122.445593],[37.7564995,-122.4469423],[37.7575568,-122.4479027],[37.7578353,-122.4481721],[37.7590499,-122.4484847],[37.7591246,-122.4479401],[37.7593515,-122.4474439],[37.76017,-122.446953],[37.7610047,-122.4465172],[37.7614825,-122.4466073],[37.7615697,-122.4466512],[37.7617944,-122.4467789],[37.7618173,-122.4463856],[37.7618593,-122.4456723],[37.7618829,-122.4453093],[37.7619538,-122.4442481],[37.7620016,-122.4433594],[37.762029,-122.4429086],[37.7621959,-122.4401689],[37.7622371,-122.439492],[37.7623024,-122.4384372],[37.7623466,-122.437694],[37.7623662,-122.437372],[37.7626492,-122.435407],[37.76271,-122.4352027],[37.7628033,-122.4350308],[37.7629997,-122.4347302],[37.7640404,-122.4334212],[37.764226,-122.4331992],[37.7643025,-122.4331078],[37.764477,-122.4329031],[37.7657839,-122.4312174],[37.7659327,-122.4310488],[37.7660108,-122.4309628],[37.7664924,-122.4303682],[37.7673194,-122.4293052],[37.7674793,-122.4291018],[37.7675698,-122.4289903],[37.7675838,-122.4289731],[37.7676005,-122.428954],[37.7677441,-122.4287893],[37.7678157,-122.4287076],[37.7681349,-122.4282982],[37.7685722,-122.4277343],[37.7686632,-122.4276167],[37.7689827,-122.4272097],[37.7691181,-122.4270372],[37.7693004,-122.426805],[37.7694216,-122.4266495],[37.7696185,-122.4264151],[37.7696323,-122.4263994],[37.7696598,-122.4263689],[37.7697203,-122.4263017],[37.7706495,-122.4250929],[37.7707578,-122.4249683],[37.7709451,-122.4247554],[37.7713101,-122.4242554],[37.771749,-122.4237017],[37.7718478,-122.4235753],[37.7718771,-122.4235378],[37.7719186,-122.4234846],[37.771986,-122.423404],[37.7720531,-122.4233286],[37.7723508,-122.4229727],[37.7725989,-122.4226601]];'"
      ]
     },
     "execution_count": 36,
     "metadata": {},
     "output_type": "execute_result"
    }
   ],
   "source": [
    "Route_str"
   ]
  },
  {
   "cell_type": "code",
   "execution_count": 41,
   "metadata": {
    "collapsed": false
   },
   "outputs": [
    {
     "data": {
      "text/plain": [
       "2.216"
      ]
     },
     "execution_count": 41,
     "metadata": {},
     "output_type": "execute_result"
    }
   ],
   "source": [
    "User_Total_Dist_mi = Total_Dist/5280\n",
    "User_Total_Dist_mi = round(User_Total_Dist_mi,3)\n",
    "User_Total_Dist_mi\n"
   ]
  },
  {
   "cell_type": "code",
   "execution_count": 51,
   "metadata": {
    "collapsed": true
   },
   "outputs": [],
   "source": [
    "Total_Dist = round(Total_Dist,3)"
   ]
  },
  {
   "cell_type": "code",
   "execution_count": 52,
   "metadata": {
    "collapsed": false
   },
   "outputs": [
    {
     "data": {
      "text/plain": [
       "15623.0"
      ]
     },
     "execution_count": 52,
     "metadata": {},
     "output_type": "execute_result"
    }
   ],
   "source": [
    "Total_Dist"
   ]
  },
  {
   "cell_type": "code",
   "execution_count": null,
   "metadata": {
    "collapsed": true
   },
   "outputs": [],
   "source": []
  }
 ],
 "metadata": {
  "anaconda-cloud": {},
  "kernelspec": {
   "display_name": "Python [conda env:my_projects_env]",
   "language": "python",
   "name": "conda-env-my_projects_env-py"
  },
  "language_info": {
   "codemirror_mode": {
    "name": "ipython",
    "version": 2
   },
   "file_extension": ".py",
   "mimetype": "text/x-python",
   "name": "python",
   "nbconvert_exporter": "python",
   "pygments_lexer": "ipython2",
   "version": "2.7.12"
  }
 },
 "nbformat": 4,
 "nbformat_minor": 1
}
