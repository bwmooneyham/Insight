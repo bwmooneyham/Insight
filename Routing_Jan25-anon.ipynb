{
 "cells": [
  {
   "cell_type": "code",
   "execution_count": 1,
   "metadata": {
    "collapsed": false
   },
   "outputs": [],
   "source": [
    "## IMPORT NECESSARY PYTHON MODULES:\n",
    "from sqlalchemy import create_engine\n",
    "import psycopg2\n",
    "import pandas as pd\n",
    "import numpy as np\n",
    "import matplotlib.pyplot as plt\n",
    "import os\n"
   ]
  },
  {
   "cell_type": "code",
   "execution_count": 2,
   "metadata": {
    "collapsed": false
   },
   "outputs": [],
   "source": [
    "## CONNECT TO SQL DATABASE:\n",
    "# Provide database info\n",
    "dbname = os.environ['dbname']\n",
    "pswd = os.environ['pswd']\n",
    "username = os.environ['username']\n",
    "# construct a connection to a database\n",
    "engine = create_engine('postgresql://%s:%s@localhost/%s'%(username,pswd,dbname))\n",
    "# connect to the database\n",
    "con = None\n",
    "con = psycopg2.connect(database = dbname, user = username, host='localhost', password=pswd)"
   ]
  },
  {
   "cell_type": "code",
   "execution_count": 3,
   "metadata": {
    "collapsed": false
   },
   "outputs": [],
   "source": [
    "from mapbox import Geocoder\n",
    "\n",
    "MAPBOX_ACCESS_TOKEN=os.environ['MAPBOX_ACCESS_TOKEN']\n",
    "\n",
    "geocoder = Geocoder(access_token=MAPBOX_ACCESS_TOKEN)\n",
    "\n",
    "#response_start = geocoder.forward(\"360 Elizabeth St, San Francisco, CA 94114\")\n",
    "response_start = geocoder.forward(\"501 Twin Peaks Blvd, San Francisco, CA 94114\")\n",
    "start_coords = response_start.geojson()['features'][0]['geometry']['coordinates']\n",
    "lat1 = start_coords[0]\n",
    "long1 = start_coords[1]\n",
    "\n",
    "response_end = geocoder.forward(\"1720 Market St, San Francisco, CA 94102\")\n",
    "end_coords = response_end.geojson()['features'][0]['geometry']['coordinates']\n",
    "lat2 = end_coords[0]\n",
    "long2 = end_coords[1]"
   ]
  },
  {
   "cell_type": "code",
   "execution_count": 4,
   "metadata": {
    "collapsed": false
   },
   "outputs": [],
   "source": [
    "cur_get_ids_from_ll_start = con.cursor()\n",
    "cur_get_ids_from_ll_end = con.cursor()\n",
    "cur_get_ids_from_ll_start.execute(\"\"\"select id from ways_vertices_pgr order by st_distance(the_geom, st_setsrid(st_makepoint(%s, %s), 4326)) limit 1;\"\"\", (lat1, long1))\n",
    "cur_get_ids_from_ll_end.execute(\"\"\"select id from ways_vertices_pgr order by st_distance(the_geom, st_setsrid(st_makepoint(%s, %s), 4326)) limit 1;\"\"\", (lat2, long2))\n",
    "\n",
    "id_start = cur_get_ids_from_ll_start.fetchall()\n",
    "id_end = cur_get_ids_from_ll_end.fetchall()"
   ]
  },
  {
   "cell_type": "markdown",
   "metadata": {},
   "source": [
    "## Cell below needs editing to return cal_cost and length_ft columns. The totals from these columns then need to be calculated and displayed in the web app"
   ]
  },
  {
   "cell_type": "code",
   "execution_count": 5,
   "metadata": {
    "collapsed": false
   },
   "outputs": [],
   "source": [
    "curX = con.cursor()\n",
    "curX.execute(\"\"\"SELECT id, lon, lat, cost\n",
    "   FROM ways_vertices_pgr\n",
    "   JOIN\n",
    "   (SELECT * FROM pgr_dijkstra('\n",
    "    SELECT gid AS id,\n",
    "         source,\n",
    "         target,\n",
    "         cal_cost AS cost,\n",
    "         length_ft\n",
    "        FROM ways_cals',\n",
    "    %s, %s, directed := false )) AS route\n",
    "   ON\n",
    "   ways_vertices_pgr.id = route.node\n",
    "   ORDER BY seq;\"\"\", (id_start, id_end))\n",
    "Path = curX.fetchall()"
   ]
  },
  {
   "cell_type": "markdown",
   "metadata": {},
   "source": [
    "## The following cell, given the cell above (which has been edited to return the cost column in the Path variable), gives the total of the \"cal_cost\" variable along the path. NOTE: this does NOT equal the calories burned!"
   ]
  },
  {
   "cell_type": "code",
   "execution_count": 6,
   "metadata": {
    "collapsed": false
   },
   "outputs": [
    {
     "data": {
      "text/plain": [
       "12190.0"
      ]
     },
     "execution_count": 6,
     "metadata": {},
     "output_type": "execute_result"
    }
   ],
   "source": [
    "Total_Cal = 0\n",
    "for i in range(len(Path)):\n",
    "    Total_Cal += Path[i][3]\n",
    "    \n",
    "Total_Cal    "
   ]
  },
  {
   "cell_type": "code",
   "execution_count": null,
   "metadata": {
    "collapsed": false
   },
   "outputs": [],
   "source": [
    "Route_Coords = []\n",
    "for i in range(len(Path)):\n",
    "    Route_Coords.append([float(Path[i][1]),float(Path[i][2])])\n",
    "\n",
    "len(Route_Coords)"
   ]
  },
  {
   "cell_type": "code",
   "execution_count": null,
   "metadata": {
    "collapsed": false,
    "scrolled": true
   },
   "outputs": [],
   "source": [
    "for i in range(len(Route_Coords)):\n",
    "    Route_Coords[i][0], Route_Coords[i][1] = Route_Coords[i][1], Route_Coords[i][0]\n",
    "    \n",
    "#Route_Coords"
   ]
  },
  {
   "cell_type": "code",
   "execution_count": null,
   "metadata": {
    "collapsed": false
   },
   "outputs": [],
   "source": [
    "Route_str = \"[\"\n",
    "for i in range(len(Route_Coords)):\n",
    "    Route_str += \"[\"\n",
    "    Route_str += str(Route_Coords[i][0])\n",
    "    Route_str += \",\"\n",
    "    Route_str += str(Route_Coords[i][1])\n",
    "    Route_str += \"]\"\n",
    "    Route_str += \",\"\n",
    "Route_str = Route_str[:-1]\n",
    "Route_str += \"];\"\n",
    "    "
   ]
  },
  {
   "cell_type": "code",
   "execution_count": null,
   "metadata": {
    "collapsed": false
   },
   "outputs": [],
   "source": [
    "Route_str"
   ]
  },
  {
   "cell_type": "code",
   "execution_count": null,
   "metadata": {
    "collapsed": false
   },
   "outputs": [],
   "source": []
  },
  {
   "cell_type": "code",
   "execution_count": null,
   "metadata": {
    "collapsed": true
   },
   "outputs": [],
   "source": []
  }
 ],
 "metadata": {
  "anaconda-cloud": {},
  "kernelspec": {
   "display_name": "Python [conda env:my_projects_env]",
   "language": "python",
   "name": "conda-env-my_projects_env-py"
  },
  "language_info": {
   "codemirror_mode": {
    "name": "ipython",
    "version": 2
   },
   "file_extension": ".py",
   "mimetype": "text/x-python",
   "name": "python",
   "nbconvert_exporter": "python",
   "pygments_lexer": "ipython2",
   "version": "2.7.12"
  }
 },
 "nbformat": 4,
 "nbformat_minor": 1
}
